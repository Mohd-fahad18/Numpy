{
 "cells": [
  {
   "cell_type": "code",
   "execution_count": 1,
   "id": "796de6d0",
   "metadata": {},
   "outputs": [],
   "source": [
    "import numpy as np"
   ]
  },
  {
   "cell_type": "markdown",
   "id": "98ebeb3e",
   "metadata": {},
   "source": [
    "## Numpy array operation\n",
    "### 1D array"
   ]
  },
  {
   "cell_type": "code",
   "execution_count": null,
   "id": "d91fbb6f",
   "metadata": {},
   "outputs": [
    {
     "name": "stdout",
     "output_type": "stream",
     "text": [
      "elemnt at position five is : 5\n",
      "basic slicing : [3 4 5 6 7]\n",
      "with step : [2 4 6 8]\n",
      "negative slicing : 7\n"
     ]
    }
   ],
   "source": [
    "arr = np.array([1,2,3,4,5,6,7,8,9])\n",
    "print(\"elemnt at position five is :\",arr[4]) #particular elemnt\n",
    "print(\"basic slicing :\",arr[2:7]) #from pos 2 to 7 it st from 0\n",
    "print(\"with step :\",arr[1:8:2])\n",
    "print(\"negative slicing :\",arr[-3]) #piche se 3 pr"
   ]
  },
  {
   "cell_type": "markdown",
   "id": "701a200b",
   "metadata": {},
   "source": [
    "### 2D array"
   ]
  },
  {
   "cell_type": "code",
   "execution_count": 8,
   "id": "eac33226",
   "metadata": {},
   "outputs": [
    {
     "name": "stdout",
     "output_type": "stream",
     "text": [
      "specific element : 6\n",
      "Entire row : [4 5 6]\n",
      "Entire column : [2 5 8]\n"
     ]
    }
   ],
   "source": [
    "arr_2d = np.array([[1,2,3],\n",
    "                   [4,5,6],\n",
    "                   [7,8,9]])\n",
    "\n",
    "print(\"specific element :\",arr_2d[1,2]) #target 2 row 3rd column\n",
    "print(\"Entire row :\",arr_2d[1])\n",
    "print(\"Entire column :\",arr_2d[:,1])"
   ]
  },
  {
   "cell_type": "markdown",
   "id": "384e1193",
   "metadata": {},
   "source": [
    "## Sorted"
   ]
  },
  {
   "cell_type": "code",
   "execution_count": null,
   "id": "a8abd677",
   "metadata": {},
   "outputs": [
    {
     "name": "stdout",
     "output_type": "stream",
     "text": [
      "sorted array : [1 1 3 4 6 7 8]\n",
      "sorted 2d array column :\n",
      " [[1 1]\n",
      " [2 3]\n",
      " [3 6]]\n",
      "sorted 2d array row :\n",
      " [[1 3]\n",
      " [1 6]\n",
      " [2 3]]\n"
     ]
    }
   ],
   "source": [
    "sorted = np.array([3,1,4,1,8,7,6])\n",
    "print(\"sorted array :\",np.sort(sorted))#make in sequence\n",
    "\n",
    "arr_2d_unsorted = np.array([[3,1],\n",
    "                            [1,6],\n",
    "                            [2,3]])\n",
    "print(\"sorted 2d array column :\\n\",np.sort(arr_2d_unsorted , axis=0)) #arrange acc to col only\n",
    "print(\"sorted 2d array row :\\n\",np.sort(arr_2d_unsorted , axis=1)) #arrange acc to row only"
   ]
  },
  {
   "cell_type": "markdown",
   "id": "02604c05",
   "metadata": {},
   "source": [
    "## Filter"
   ]
  },
  {
   "cell_type": "code",
   "execution_count": 11,
   "id": "25f3be56",
   "metadata": {},
   "outputs": [
    {
     "name": "stdout",
     "output_type": "stream",
     "text": [
      "Even number:  [ 2  4  6  8 10]\n"
     ]
    }
   ],
   "source": [
    "numbers = np.array([1,2,3,4,5,6,7,8,9,10])\n",
    "even_num = numbers[numbers % 2 == 0]\n",
    "print(\"Even number: \",even_num)"
   ]
  },
  {
   "cell_type": "markdown",
   "id": "7df1bc44",
   "metadata": {},
   "source": [
    "### filter with mask"
   ]
  },
  {
   "cell_type": "code",
   "execution_count": 12,
   "id": "4fa1f4c1",
   "metadata": {},
   "outputs": [
    {
     "name": "stdout",
     "output_type": "stream",
     "text": [
      "numbers greter than 5 --> [ 6  7  8  9 10]\n"
     ]
    }
   ],
   "source": [
    "mask = numbers > 5\n",
    "print(\"numbers greter than 5 -->\",numbers[mask])"
   ]
  },
  {
   "cell_type": "markdown",
   "id": "c467b8cb",
   "metadata": {},
   "source": [
    "## Fancy indexting vs np.where()"
   ]
  },
  {
   "cell_type": "code",
   "execution_count": 18,
   "id": "45f8dd97",
   "metadata": {},
   "outputs": [
    {
     "name": "stdout",
     "output_type": "stream",
     "text": [
      "[1 3 5]\n",
      "(array([5, 6, 7, 8, 9]),)\n",
      "NP where : [ 6  7  8  9 10]\n"
     ]
    }
   ],
   "source": [
    "indices = [0,2,4] #make a type of array from numbers location like 0 --> 1\n",
    "print(numbers[indices])\n",
    "\n",
    "where_result = np.where(numbers > 5)\n",
    "print(where_result)\n",
    "print(\"NP where :\",numbers[where_result])"
   ]
  },
  {
   "cell_type": "code",
   "execution_count": null,
   "id": "81fbc376",
   "metadata": {},
   "outputs": [
    {
     "name": "stdout",
     "output_type": "stream",
     "text": [
      "[ 1  2  3  4  5 12 14 16 18 20]\n",
      "['false' 'false' 'false' 'false' 'false' 'true' 'true' 'true' 'true'\n",
      " 'true']\n"
     ]
    }
   ],
   "source": [
    "condition_array = np.where(numbers > 5,numbers * 2,numbers)#operation apply for greter than 5\n",
    "print(condition_array)\n",
    "\n",
    "condition_array = np.where(numbers > 5,\"true\",\"false\")#(condition,if condition true , else )\n",
    "print(condition_array)"
   ]
  },
  {
   "cell_type": "markdown",
   "id": "6a4adb45",
   "metadata": {},
   "source": [
    "## Adding and removing data"
   ]
  },
  {
   "cell_type": "code",
   "execution_count": 39,
   "id": "6474a31e",
   "metadata": {},
   "outputs": [
    {
     "name": "stdout",
     "output_type": "stream",
     "text": [
      "[5 7 9]\n",
      "[1 2 3 4 5 6]\n"
     ]
    }
   ],
   "source": [
    "arr1 = np.array([1,2,3])\n",
    "arr2 = np.array([4,5,6])\n",
    "\n",
    "add_arr = arr1 + arr2\n",
    "print(add_arr)\n",
    "combined = np.concatenate((arr1,arr2))\n",
    "print(combined)"
   ]
  },
  {
   "cell_type": "markdown",
   "id": "e413e0c8",
   "metadata": {},
   "source": [
    "### array compatibility "
   ]
  },
  {
   "cell_type": "code",
   "execution_count": 43,
   "id": "49442267",
   "metadata": {},
   "outputs": [
    {
     "name": "stdout",
     "output_type": "stream",
     "text": [
      "Compatibility shapes  True\n",
      "Compatibility shapes  False\n"
     ]
    }
   ],
   "source": [
    "a = np.array([1,2,3])\n",
    "b = np.array([4,5,6])\n",
    "c = np.array([7,8,9,1])\n",
    "\n",
    "print(\"Compatibility shapes \",a.shape == b.shape)\n",
    "print(\"Compatibility shapes \",a.shape == c.shape)"
   ]
  },
  {
   "cell_type": "code",
   "execution_count": 4,
   "id": "0b4963d3",
   "metadata": {},
   "outputs": [
    {
     "name": "stdout",
     "output_type": "stream",
     "text": [
      "original :\n",
      " [[1 2]\n",
      " [3 4]]\n",
      "with new row :\n",
      " [[1 2]\n",
      " [3 4]\n",
      " [5 6]]\n",
      "with new column :\n",
      " [[1 2 7]\n",
      " [3 4 8]]\n"
     ]
    }
   ],
   "source": [
    "original = np.array([[1,2],[3,4]])\n",
    "new_row = np.array([5,6])\n",
    "with_new_row = np.vstack((original,new_row)) # use in adding extra row in matrix\n",
    "\n",
    "print(\"original :\\n\",original)\n",
    "print(\"with new row :\\n\",with_new_row)\n",
    "\n",
    "new_col = np.array([[7],[8]])\n",
    "with_new_col = np.hstack((original,new_col))\n",
    "print(\"with new column :\\n\",with_new_col)"
   ]
  },
  {
   "cell_type": "code",
   "execution_count": null,
   "id": "b2066357",
   "metadata": {},
   "outputs": [
    {
     "name": "stdout",
     "output_type": "stream",
     "text": [
      "Array after deletion -->  [1 2 4 5]\n"
     ]
    }
   ],
   "source": [
    "arr = np.array([1,2,3,4,5])\n",
    "deleted = np.delete(arr,2) #dlt indexing 2 elemnt\n",
    "print(\"Array after deletion --> \",deleted)"
   ]
  }
 ],
 "metadata": {
  "kernelspec": {
   "display_name": "Python 3",
   "language": "python",
   "name": "python3"
  },
  "language_info": {
   "codemirror_mode": {
    "name": "ipython",
    "version": 3
   },
   "file_extension": ".py",
   "mimetype": "text/x-python",
   "name": "python",
   "nbconvert_exporter": "python",
   "pygments_lexer": "ipython3",
   "version": "3.12.4"
  }
 },
 "nbformat": 4,
 "nbformat_minor": 5
}
