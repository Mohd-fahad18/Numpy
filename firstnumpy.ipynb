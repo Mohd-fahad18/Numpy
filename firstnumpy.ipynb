{
 "cells": [
  {
   "cell_type": "markdown",
   "id": "ff081c28",
   "metadata": {},
   "source": [
    "## Numpy array and basics\n",
    "learn about numpy"
   ]
  },
  {
   "cell_type": "code",
   "execution_count": 7,
   "id": "bf52308f",
   "metadata": {},
   "outputs": [],
   "source": [
    "import numpy as np"
   ]
  },
  {
   "cell_type": "markdown",
   "id": "d8c7da74",
   "metadata": {},
   "source": [
    "\n",
    "## creating array from list"
   ]
  },
  {
   "cell_type": "code",
   "execution_count": 8,
   "id": "1f83f6d8",
   "metadata": {},
   "outputs": [
    {
     "name": "stdout",
     "output_type": "stream",
     "text": [
      "1D array :  [1 2 3 4 5]\n",
      "1D array :\n",
      " [[1 2 3]\n",
      " [5 4 7]]\n"
     ]
    }
   ],
   "source": [
    "arr_1d = np.array([1,2,3,4,5])\n",
    "print(\"1D array : \",arr_1d)\n",
    "\n",
    "arr_2d = np.array([[1,2,3],[5,4,7]])\n",
    "print(\"1D array :\\n\",arr_2d)"
   ]
  },
  {
   "cell_type": "markdown",
   "id": "f78766f6",
   "metadata": {},
   "source": [
    "## List vs numpy array"
   ]
  },
  {
   "cell_type": "code",
   "execution_count": 9,
   "id": "74f54f53",
   "metadata": {},
   "outputs": [
    {
     "name": "stdout",
     "output_type": "stream",
     "text": [
      "multiplication of list :  [1, 2, 3, 1, 2, 3]\n",
      "multiplication of array :  [ 2  4  6 22]\n"
     ]
    }
   ],
   "source": [
    "py_list = [1,2,3]\n",
    "print(\"multiplication of list : \", py_list*2)\n",
    "\n",
    "np_array = np.array([1,2,3,11])#element wise multiplication\n",
    "print(\"multiplication of array : \", np_array*2)\n"
   ]
  },
  {
   "cell_type": "markdown",
   "id": "dddfe006",
   "metadata": {},
   "source": [
    "## Creating array from scratch"
   ]
  },
  {
   "cell_type": "code",
   "execution_count": 16,
   "id": "242bf40f",
   "metadata": {},
   "outputs": [
    {
     "name": "stdout",
     "output_type": "stream",
     "text": [
      "zeroes array: \n",
      " [[0. 0. 0. 0.]\n",
      " [0. 0. 0. 0.]\n",
      " [0. 0. 0. 0.]]\n",
      "Ones array matrix:\n",
      " [[1. 1. 1. 1.]\n",
      " [1. 1. 1. 1.]]\n",
      "full array matrix:\n",
      " [[5 5 5]\n",
      " [5 5 5]]\n",
      "random:\n",
      " [[0.79261701 0.66791453 0.06605913]\n",
      " [0.21652855 0.81639663 0.64797856]]\n",
      "sequece array:\n",
      " [0 2 4 6 8]\n"
     ]
    }
   ],
   "source": [
    "Zeroes = np.zeros((3,4))\n",
    "print(\"zeroes array: \\n\",Zeroes)\n",
    "\n",
    "Ones = np.ones((2,4))\n",
    "print(\"Ones array matrix:\\n\",Ones)\n",
    "\n",
    "full = np.full((2,3),5)\n",
    "print(\"full array matrix:\\n\",full)\n",
    "\n",
    "random_num = np.random.random((2,3))\n",
    "print(\"random:\\n\",random_num)\n",
    "\n",
    "sequence = np.arange(0,10,2)\n",
    "print(\"sequece array:\\n\",sequence)\n"
   ]
  },
  {
   "cell_type": "code",
   "execution_count": null,
   "id": "4fbaefc0",
   "metadata": {},
   "outputs": [],
   "source": []
  },
  {
   "cell_type": "markdown",
   "id": "424c2a1e",
   "metadata": {},
   "source": [
    "### Vector , Matrix , Tensor"
   ]
  },
  {
   "cell_type": "code",
   "execution_count": 11,
   "id": "f2feb9b3",
   "metadata": {},
   "outputs": [
    {
     "name": "stdout",
     "output_type": "stream",
     "text": [
      "vector array :\n",
      " [1 2 3 4]\n",
      "vector Matrix :\n",
      " [[1 2 3]\n",
      " [6 7 8]]\n",
      "vector Tensor :\n",
      " [[[1 2]\n",
      "  [3 6]]\n",
      "\n",
      " [[5 8]\n",
      "  [9 2]]]\n"
     ]
    }
   ],
   "source": [
    "vector = np.array([1,2,3,4])\n",
    "print(\"vector array :\\n\",vector)\n",
    "\n",
    "Matrix = np.array([[1,2,3],\n",
    "                   [6,7,8]])\n",
    "print(\"vector Matrix :\\n\",Matrix)\n",
    "\n",
    "Tensor = np.array([[[1,2],[3,6]],\n",
    "                   [[5,8],[9,2]]])\n",
    "print(\"vector Tensor :\\n\",Tensor)"
   ]
  },
  {
   "cell_type": "markdown",
   "id": "f9654f42",
   "metadata": {},
   "source": [
    "## Array Properties"
   ]
  },
  {
   "cell_type": "code",
   "execution_count": 18,
   "id": "3b84c252",
   "metadata": {},
   "outputs": [
    {
     "name": "stdout",
     "output_type": "stream",
     "text": [
      "shape : (2, 2, 3)\n",
      "Dimension : 3\n",
      "size : 12\n",
      "DType : int64\n"
     ]
    }
   ],
   "source": [
    "arr = np.array([[[1,2,3],[4,5,6]],\n",
    "                [[7,5,4],[3,4,9]]])\n",
    "\n",
    "print(\"shape :\",arr.shape)\n",
    "print(\"Dimension :\",arr.ndim)\n",
    "print(\"size :\",arr.size)\n",
    "print(\"DType :\",arr.dtype)"
   ]
  },
  {
   "cell_type": "markdown",
   "id": "f8636031",
   "metadata": {},
   "source": [
    "## Array Reshaping"
   ]
  },
  {
   "cell_type": "code",
   "execution_count": null,
   "id": "f703f398",
   "metadata": {},
   "outputs": [
    {
     "name": "stdout",
     "output_type": "stream",
     "text": [
      "Original array : [ 0  1  2  3  4  5  6  7  8  9 10 11]\n",
      "\n",
      " Reshaped array :\n",
      " [[ 0  1  2  3]\n",
      " [ 4  5  6  7]\n",
      " [ 8  9 10 11]]\n",
      "\n",
      " flattened array:\n",
      " [ 0  1  2  3  4  5  6  7  8  9 10 11]\n",
      "\n",
      " ravel array:\n",
      " [ 0  1  2  3  4  5  6  7  8  9 10 11]\n",
      "\n",
      " rtransposed array:\n",
      " [[ 0  4  8]\n",
      " [ 1  5  9]\n",
      " [ 2  6 10]\n",
      " [ 3  7 11]]\n"
     ]
    }
   ],
   "source": [
    "arr = np.arange(12)\n",
    "print(\"Original array :\",arr)\n",
    "\n",
    "reshaped = arr.reshape((3,4))\n",
    "print(\"\\n Reshaped array :\\n\",reshaped)\n",
    "\n",
    "flattened = reshaped.flatten()\n",
    "print(\"\\n flattened array:\\n\",flattened)\n",
    "\n",
    "#ravel (return original,insted of copy)\n",
    "raveled = reshaped.ravel()\n",
    "print(\"\\n ravel array:\\n\",raveled)\n",
    "\n",
    "#Transposed\n",
    "transposed = reshaped.T\n",
    "print(\"\\n rtransposed array:\\n\",transposed)"
   ]
  },
  {
   "cell_type": "code",
   "execution_count": null,
   "id": "f35d2fd4",
   "metadata": {},
   "outputs": [],
   "source": []
  }
 ],
 "metadata": {
  "kernelspec": {
   "display_name": "Python 3",
   "language": "python",
   "name": "python3"
  },
  "language_info": {
   "codemirror_mode": {
    "name": "ipython",
    "version": 3
   },
   "file_extension": ".py",
   "mimetype": "text/x-python",
   "name": "python",
   "nbconvert_exporter": "python",
   "pygments_lexer": "ipython3",
   "version": "3.12.4"
  }
 },
 "nbformat": 4,
 "nbformat_minor": 5
}
